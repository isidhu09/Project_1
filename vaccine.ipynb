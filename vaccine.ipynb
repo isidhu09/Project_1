{
 "cells": [
  {
   "cell_type": "code",
   "execution_count": null,
   "id": "e7f0154c",
   "metadata": {},
   "outputs": [],
   "source": [
    "# Dependencies\n",
    "import json\n",
    "import requests\n",
    "import matplotlib.pyplot as plt\n",
    "import pandas as pd\n",
    "import numpy as np\n",
    "import requests\n",
    "import time\n",
    "import gmaps\n",
    "import plotly.express as px\n",
    "from scipy.stats import linregress\n",
    "from urllib.request import urlopen\n",
    "from scipy import stats\n",
    "from config import apiKey\n",
    "from sodapy import Socrata\n",
    "\n",
    "# Use open client to obtain data\n",
    "client = Socrata(\"data.cdc.gov\", apiKey)\n",
    "results = client.get(\"dnhi-s2bf\", limit = 1000000)\n",
    "\n",
    "# Convert to pandas DataFrame\n",
    "death_quarterly = pd.DataFrame.from_records(results)"
   ]
  },
  {
   "cell_type": "code",
   "execution_count": null,
   "id": "2da5cabc",
   "metadata": {},
   "outputs": [],
   "source": [
    "# Cleaning columns and dropping NA values\n",
    "death_quarterly_1 = death_quarterly.drop(columns=['footnote'])\n",
    "death_quarterly_2 = death_quarterly_1.dropna(subset =['covid_19_deaths','total_deaths'])"
   ]
  },
  {
   "cell_type": "code",
   "execution_count": null,
   "id": "03578b39",
   "metadata": {},
   "outputs": [],
   "source": [
    "# Setting numerical values to int for future calculations\n",
    "death_quarterly_2['total_deaths'] = death_quarterly_2['total_deaths'].astype(int)\n",
    "death_quarterly_2['covid_19_deaths'] = death_quarterly_2['covid_19_deaths'].astype(int)\n",
    "\n",
    "#Group by county level\n",
    "death_gb = death_quarterly_2.groupby(['fips_code'])\n",
    "death_gb_df = death_gb.sum()"
   ]
  },
  {
   "cell_type": "code",
   "execution_count": null,
   "id": "c61803bc",
   "metadata": {},
   "outputs": [],
   "source": [
    "# Calculating new column to calculate covid death %\n",
    "death_gb_df['covid_portion_of_total_deaths'] = death_gb_df['covid_19_deaths']/death_gb_df['total_deaths']\n",
    "death_gb_df = pd.DataFrame(death_gb_df)\n",
    "death_gb_df.reset_index(inplace=True)"
   ]
  },
  {
   "cell_type": "code",
   "execution_count": null,
   "id": "333fcc2f",
   "metadata": {},
   "outputs": [],
   "source": [
    "# Generating stats on the datafame to get range for plot\n",
    "death_gb_df.describe(include='all')"
   ]
  },
  {
   "cell_type": "code",
   "execution_count": null,
   "id": "ffe1f78b",
   "metadata": {},
   "outputs": [],
   "source": [
    "# URL for GET requests to retrieve county data\n",
    "url = \"https://raw.githubusercontent.com/plotly/datasets/master/geojson-counties-fips.json\"\n",
    "response = requests.get(url).json()"
   ]
  },
  {
   "cell_type": "code",
   "execution_count": null,
   "id": "a134b1e0",
   "metadata": {},
   "outputs": [],
   "source": [
    "# Creating map of polygons representing county boundaries\n",
    "fig = px.choropleth(death_gb_df, geojson=response, locations='fips_code', color='covid_portion_of_total_deaths',\n",
    "                           color_continuous_scale=\"ylgnbu\",\n",
    "                           range_color=(0, .35),\n",
    "                           scope=\"usa\",\n",
    "                           labels={'covid_portion_of_total_deaths':'Covid Deaths as % of Total Deaths'}\n",
    "                          )\n",
    "fig.show()"
   ]
  },
  {
   "cell_type": "code",
   "execution_count": null,
   "id": "44e69fec",
   "metadata": {},
   "outputs": [],
   "source": [
    "# Renaming column for later merge\n",
    "death_df = death_gb_df.rename(columns = {'fips_code':'fips'})"
   ]
  },
  {
   "cell_type": "code",
   "execution_count": null,
   "id": "55810bed",
   "metadata": {},
   "outputs": [],
   "source": [
    "# Use open client to obtain data - can take up to 5 minutes to get results in dataframe ~1.6M rows\n",
    "client = Socrata(\"data.cdc.gov\", apiKey)\n",
    "results = client.get(\"8xkx-amqh\", limit = 2000000)\n",
    "                     \n",
    "# Convert to pandas DataFrame\n",
    "results_df = pd.DataFrame.from_records(results)"
   ]
  },
  {
   "cell_type": "code",
   "execution_count": null,
   "id": "c64cb16c",
   "metadata": {},
   "outputs": [],
   "source": [
    "# Limiting to specific columns\n",
    "results_df_columns = results_df[['date','fips','recip_state','recip_county',\n",
    "                                     'completeness_pct','administered_dose1_recip',\n",
    "                                     'administered_dose1_pop_pct','series_complete_yes',\n",
    "                                     'series_complete_pop_pct','metro_status','census2019']]"
   ]
  },
  {
   "cell_type": "code",
   "execution_count": null,
   "id": "fa831bf6",
   "metadata": {},
   "outputs": [],
   "source": [
    "# Setting up a clean datafame with out any NA and setting a date column\n",
    "clean_df = results_df_columns.dropna()\n",
    "clean_df['date'] = pd.to_datetime(clean_df['date']).dt.date"
   ]
  },
  {
   "cell_type": "code",
   "execution_count": null,
   "id": "6712b781",
   "metadata": {},
   "outputs": [],
   "source": [
    "# Inserting Year Quarter Month columns\n",
    "clean_df['month'] = pd.DatetimeIndex(clean_df['date']).month\n",
    "clean_df['quarter'] = pd.DatetimeIndex(clean_df['date']).quarter\n",
    "clean_df['year'] = pd.DatetimeIndex(clean_df['date']).year"
   ]
  },
  {
   "cell_type": "code",
   "execution_count": null,
   "id": "6155544d",
   "metadata": {},
   "outputs": [],
   "source": [
    "# Grouping by county and taking max value\n",
    "grouped_fips = clean_df.groupby(['fips'])\n",
    "max_group = grouped_fips.max()"
   ]
  },
  {
   "cell_type": "code",
   "execution_count": null,
   "id": "eb153a36",
   "metadata": {},
   "outputs": [],
   "source": [
    "# Creating a data frame by vaccine dose\n",
    "max_dose = pd.DataFrame(max_group[['administered_dose1_recip','administered_dose1_pop_pct']]) "
   ]
  },
  {
   "cell_type": "code",
   "execution_count": null,
   "id": "009c3edc",
   "metadata": {},
   "outputs": [],
   "source": [
    "# Merging Death dataframe and Vaccine data frame\n",
    "merged_df = death_df.merge(max_dose,on='fips')"
   ]
  },
  {
   "cell_type": "code",
   "execution_count": null,
   "id": "a5c4eeff",
   "metadata": {},
   "outputs": [],
   "source": [
    "# Renaming columns from deaths dataframe and assigning proper types to columns\n",
    "death_quarterly_2 = death_quarterly.rename(columns = {'fips_code' : 'fips'})\n",
    "death_quarterly_2['year']= death_quarterly_2['year'].astype(int)\n",
    "death_quarterly_2['quarter']=death_quarterly_2['quarter'].astype(int)\n",
    "clean_df['year']=clean_df['year'].astype(int)\n",
    "clean_df['quarter']=clean_df['quarter'].astype(int)"
   ]
  },
  {
   "cell_type": "code",
   "execution_count": null,
   "id": "4febf560",
   "metadata": {},
   "outputs": [],
   "source": [
    "# Merging deaths and our clean dataframe and limiting to 4 states CA,FL,TX,NY\n",
    "total_quarter = pd.merge(death_quarterly_2,clean_df, on = ('fips','year','quarter'),how ='inner')\n",
    "total_quarter_2 = total_quarter.loc[(total_quarter['state_of_residence']=='Florida')|(total_quarter['state_of_residence'] =='Texas')|(total_quarter['state_of_residence'] =='California')|(total_quarter['state_of_residence'] =='New York'),:]"
   ]
  },
  {
   "cell_type": "code",
   "execution_count": null,
   "id": "176a67e9",
   "metadata": {},
   "outputs": [],
   "source": [
    "# Inserting quarter column for plotting purposes\n",
    "total_quarter_2['quarter_number'] = pd.to_datetime(total_quarter_2['year'].astype(str) + 'Q' + total_quarter_2['quarter'].astype(str))"
   ]
  },
  {
   "cell_type": "code",
   "execution_count": null,
   "id": "a2b36d6b",
   "metadata": {},
   "outputs": [],
   "source": [
    "# Cleaning out any NA from merge and calculating covid death rate\n",
    "total_quarter_2.dropna(subset = ['covid_19_deaths','total_deaths'])\n",
    "total_quarter_2['covid_death_rate']= total_quarter_2['covid_19_deaths'].astype(float)/total_quarter_2['total_deaths'].astype(float)"
   ]
  },
  {
   "cell_type": "code",
   "execution_count": null,
   "id": "534fdc65",
   "metadata": {},
   "outputs": [],
   "source": [
    "# Removing duplicate values\n",
    "total_quarter_2.drop_duplicates(subset =['quarter_number','fips'],inplace=True)                                                                                                                                    "
   ]
  },
  {
   "cell_type": "code",
   "execution_count": null,
   "id": "6012be8a",
   "metadata": {},
   "outputs": [],
   "source": [
    "# Column names to use for plots\n",
    "total_quarter_2.columns"
   ]
  },
  {
   "cell_type": "code",
   "execution_count": null,
   "id": "fa758cd8",
   "metadata": {},
   "outputs": [],
   "source": [
    "# Setting proper variable types\n",
    "total_quarter_2['administered_dose1_recip'] = total_quarter_2['administered_dose1_recip'].astype(float) \n",
    "total_quarter_2['census2019'] = total_quarter_2['census2019'].astype(float) \n",
    "total_quarter_2['covid_19_deaths'] = total_quarter_2['covid_19_deaths'].astype(float) \n",
    "total_quarter_2['total_deaths'] = total_quarter_2['total_deaths'].astype(float) "
   ]
  },
  {
   "cell_type": "code",
   "execution_count": null,
   "id": "7d1043c3",
   "metadata": {},
   "outputs": [],
   "source": [
    "# Creating df for California\n",
    "california_df = total_quarter_2.loc[total_quarter_2['state_of_residence'] == 'California',:]\n",
    "cali_quarter_group = california_df.groupby('quarter_number')\n",
    "cali_quarter_df = cali_quarter_group.sum()"
   ]
  },
  {
   "cell_type": "code",
   "execution_count": null,
   "id": "be092b8c",
   "metadata": {},
   "outputs": [],
   "source": [
    "# Adding calculated columns for covid deaths and vaccine rate\n",
    "cali_quarter_df['covid_death_rate']= cali_quarter_df['covid_19_deaths']/cali_quarter_df['total_deaths']\n",
    "cali_quarter_df['vaccine_rate']= cali_quarter_df['administered_dose1_recip']/cali_quarter_df['census2019']\n"
   ]
  },
  {
   "cell_type": "code",
   "execution_count": null,
   "id": "cb006378",
   "metadata": {},
   "outputs": [],
   "source": [
    "# Setting proper variables for original quarter dataframe\n",
    "total_quarter['administered_dose1_recip'] = total_quarter['administered_dose1_recip'].astype(float) \n",
    "total_quarter['census2019'] = total_quarter['census2019'].astype(float) \n",
    "total_quarter['covid_19_deaths'] = total_quarter['covid_19_deaths'].astype(float) \n",
    "total_quarter['total_deaths'] = total_quarter['total_deaths'].astype(float) "
   ]
  },
  {
   "cell_type": "code",
   "execution_count": null,
   "id": "7e66940a",
   "metadata": {},
   "outputs": [],
   "source": [
    "# Creating df for Florida\n",
    "florida_df = total_quarter_2.loc[total_quarter_2['state_of_residence'] == 'Florida',:]\n",
    "FL_quarter_group = florida_df.groupby('quarter_number')\n",
    "FL_quarter_df = FL_quarter_group.sum()"
   ]
  },
  {
   "cell_type": "code",
   "execution_count": null,
   "id": "5dc0e181",
   "metadata": {},
   "outputs": [],
   "source": [
    "# Adding calculated columns for covid deaths and vaccine rate\n",
    "FL_quarter_df['covid_death_rate']= FL_quarter_df['covid_19_deaths']/FL_quarter_df['total_deaths']\n",
    "FL_quarter_df['vaccine_rate']= FL_quarter_df['administered_dose1_recip']/FL_quarter_df['census2019']"
   ]
  },
  {
   "cell_type": "code",
   "execution_count": null,
   "id": "67012508",
   "metadata": {},
   "outputs": [],
   "source": [
    "# Creating df for Texas\n",
    "texas_df = total_quarter_2.loc[total_quarter_2['state_of_residence'] == 'Texas',:]\n",
    "TX_quarter_group = texas_df.groupby('quarter_number')\n",
    "TX_quarter_df = TX_quarter_group.sum()"
   ]
  },
  {
   "cell_type": "code",
   "execution_count": null,
   "id": "4232e24f",
   "metadata": {},
   "outputs": [],
   "source": [
    "# Adding calculated columns for covid deaths and vaccine rate\n",
    "TX_quarter_df['covid_death_rate']= TX_quarter_df['covid_19_deaths']/TX_quarter_df['total_deaths']\n",
    "TX_quarter_df['vaccine_rate']= TX_quarter_df['administered_dose1_recip']/TX_quarter_df['census2019']\n"
   ]
  },
  {
   "cell_type": "code",
   "execution_count": null,
   "id": "71537e34",
   "metadata": {},
   "outputs": [],
   "source": [
    "# Creating dataframe for scatter plot\n",
    "scatter_quarter = total_quarter\n",
    "scatter_quarter['quarter_number'] = pd.to_datetime(total_quarter['year'].astype(str) + 'Q' + total_quarter['quarter'].astype(str))"
   ]
  },
  {
   "cell_type": "code",
   "execution_count": null,
   "id": "6252a0b8",
   "metadata": {},
   "outputs": [],
   "source": [
    "# Limiting to specific columns\n",
    "scatter_plot = scatter_quarter.loc[:,['fips','administered_dose1_recip','census2019','covid_19_deaths','total_deaths','quarter_number']]"
   ]
  },
  {
   "cell_type": "code",
   "execution_count": null,
   "id": "5e83adf6",
   "metadata": {},
   "outputs": [],
   "source": [
    "# Removing duplicates\n",
    "scatter_plot.drop_duplicates(subset =['quarter_number','fips'],inplace=True)"
   ]
  },
  {
   "cell_type": "code",
   "execution_count": null,
   "id": "ff42b4fb",
   "metadata": {},
   "outputs": [],
   "source": [
    "# Removing NA values\n",
    "scatter_plot.dropna()"
   ]
  },
  {
   "cell_type": "code",
   "execution_count": null,
   "id": "bba251f3",
   "metadata": {},
   "outputs": [],
   "source": [
    "# Setting a clean df for the scatter\n",
    "clean_scatter = scatter_plot.loc[(scatter_plot['administered_dose1_recip'] != 0) & (scatter_plot['covid_19_deaths'] != 0) & (scatter_plot['census2019'] != 0) &(scatter_plot['total_deaths'] != 0),:]"
   ]
  },
  {
   "cell_type": "code",
   "execution_count": null,
   "id": "3bdfaceb",
   "metadata": {},
   "outputs": [],
   "source": [
    "# Removing 0 values and inf values to get proper rate calculations\n",
    "clean_scatter.replace([np.inf, -np.inf], np.nan, inplace=True)\n",
    "clean_scatter.dropna(inplace=True)"
   ]
  },
  {
   "cell_type": "code",
   "execution_count": null,
   "id": "6f8f2f81",
   "metadata": {},
   "outputs": [],
   "source": [
    "# Scatter plot to show covid death % and vaccine pop fraction\n",
    "x_x = clean_scatter['administered_dose1_recip']/clean_scatter['census2019']\n",
    "y_y = clean_scatter['covid_19_deaths']/clean_scatter['total_deaths']\n",
    "\n",
    "fig1, ax1 = plt.subplots()\n",
    "plt.scatter(x_x,y_y)\n",
    "plt.xlabel('Fraction of Pop Vaccinated')\n",
    "plt.ylabel('Covid Death %')\n",
    "plt.show()"
   ]
  },
  {
   "cell_type": "code",
   "execution_count": null,
   "id": "5d0f01d0",
   "metadata": {},
   "outputs": [],
   "source": [
    "# Linear regression on scatter plot\n",
    "correlation = stats.pearsonr(x_x,y_y)\n",
    "print(f\"The correlation between vaccine percent \\033[34mand\\033[0m the covid death percent \\033[34mis\\033[0m \\033[31m{round(correlation[0],2)}\\033[0m\")\n",
    "\n",
    "# Creating Plot for scatter and adding line\n",
    "(slope, intercept,rvalue, pvalue, stderr) = linregress(x_x,y_y)\n",
    "regress = x_x* slope + intercept\n",
    "line_eq = f\"y = {round(slope, 2)} x + {round(intercept, 2)}\"\n",
    "\n",
    "plt.scatter(x_x,y_y, s = 3)\n",
    "plt.plot(x_x, regress, color='red')\n",
    "plt.annotate(line_eq,(.4,.5),fontsize=12,color=\"red\")\n",
    "plt.xlabel('Fraction of Pop Vaccinated')\n",
    "plt.ylabel('Covid Death %')\n",
    "\n",
    "# Uncomment below to save image to desired location\n",
    "#plt.savefig(\"../Images/Scatter_Vaccine_vs_Death\")\n",
    "\n",
    "plt.show()\n"
   ]
  },
  {
   "cell_type": "code",
   "execution_count": null,
   "id": "de3e9e95",
   "metadata": {
    "scrolled": false
   },
   "outputs": [],
   "source": [
    "# Creating 2D heatmap from scatter to show concentration\n",
    "x_min = np.min(x_x)\n",
    "x_max = np.max(x_x)\n",
    "  \n",
    "y_min = np.min(y_y)\n",
    "y_max = np.max(y_y)\n",
    "\n",
    "x_bins = np.linspace(x_min, x_max, 70)\n",
    "y_bins = np.linspace(y_min, y_max, 50)\n",
    "\n",
    "fig, ax = plt.subplots()\n",
    "plt.hist2d(x_x, y_y, bins = [x_bins,y_bins],cmap = plt.cm.nipy_spectral)\n",
    "\n",
    "plt.xlabel('Fraction of Pop Vaccinated')\n",
    "plt.ylabel('Covid Death %')\n",
    "\n",
    "# Uncomment below to save image to desired location\n",
    "#plt.savefig(\"../Images/Scatter_Vaccine_vs_Death_Heat\")\n",
    "\n",
    "plt.show()"
   ]
  },
  {
   "cell_type": "code",
   "execution_count": null,
   "id": "0827ee2c",
   "metadata": {},
   "outputs": [],
   "source": [
    "# Creating df for New York\n",
    "NY_df = total_quarter_2.loc[total_quarter_2['state_of_residence'] == 'New York',:]\n",
    "NY_quarter_group = NY_df.groupby('quarter_number')\n",
    "NY_quarter_df = NY_quarter_group.sum()"
   ]
  },
  {
   "cell_type": "code",
   "execution_count": null,
   "id": "94e45667",
   "metadata": {},
   "outputs": [],
   "source": [
    "# Adding calculated columns for covid deaths and vaccine rate\n",
    "NY_quarter_df['covid_death_rate']= NY_quarter_df['covid_19_deaths']/NY_quarter_df['total_deaths']\n",
    "NY_quarter_df['vaccine_rate']= NY_quarter_df['administered_dose1_recip']/NY_quarter_df['census2019']"
   ]
  },
  {
   "cell_type": "code",
   "execution_count": null,
   "id": "89a56d91",
   "metadata": {},
   "outputs": [],
   "source": [
    "# Set index length and bar width\n",
    "quarter_label = ['2020 Q4', '2021 Q1','2021 Q2']\n",
    "index = np.arange(3)\n",
    "bar_width = 0.20\n",
    "\n",
    "# Plot COVID-19 death & Vaccine counts by State\n",
    "fig, ax = plt.subplots()\n",
    "ny = ax.bar(index,NY_quarter_df[\"covid_death_rate\"], bar_width, label='COVID-19 Death Rate', color='red', alpha=0.5)\n",
    "ny2 = ax.bar(index+bar_width,NY_quarter_df[\"vaccine_rate\"], bar_width, label='Vaccine % of Total', color='green', alpha=0.5)\n",
    "\n",
    "# Assign title, labels, and legend\n",
    "ax.set_xlabel('Quarter')\n",
    "ax.set_ylabel('Percent')\n",
    "ax.set_title('New York COVID-19 Death Rate vs. Vaccine Percent')\n",
    "ax.set_xticks(index + bar_width / 2)\n",
    "ax.set_xticklabels(quarter_label, rotation=45, ha='right')\n",
    "ax.legend()\n",
    "\n",
    "# Display the chart, and export for later use\n",
    "plt.tight_layout()\n",
    "\n",
    "# Uncomment below to save image to desired location\n",
    "#plt.savefig('../Images/NY_Covid_Death_vs_Vaccine_Rate.png')\n",
    "\n",
    "plt.show()"
   ]
  },
  {
   "cell_type": "code",
   "execution_count": null,
   "id": "8b35b6c4",
   "metadata": {},
   "outputs": [],
   "source": [
    "# Set index length and bar width\n",
    "quarter_label = ['2020 Q4', '2021 Q1','2021 Q2']\n",
    "index = np.arange(3)\n",
    "bar_width = 0.20\n",
    "\n",
    "# Plot COVID-19 death & Vaccine counts by State\n",
    "fig, ax = plt.subplots()\n",
    "ny = ax.bar(index,cali_quarter_df[\"covid_death_rate\"], bar_width, label='COVID-19 Death Rate', color='red', alpha=0.5)\n",
    "ny2 = ax.bar(index+bar_width,cali_quarter_df[\"vaccine_rate\"], bar_width, label='Vaccine % of Total', color='green', alpha=0.5)\n",
    "\n",
    "# Assign title, labels, and legend\n",
    "ax.set_xlabel('Quarter')\n",
    "ax.set_ylabel('Percent')\n",
    "ax.set_title('California COVID-19 Death Rate vs. Vaccine Percent')\n",
    "ax.set_xticks(index + bar_width / 2)\n",
    "ax.set_xticklabels(quarter_label, rotation=45, ha='right')\n",
    "ax.legend()\n",
    "\n",
    "# Display the chart, and export for later use\n",
    "plt.tight_layout()\n",
    "\n",
    "# Uncomment below to save image to desired location\n",
    "#plt.savefig('../Images/CA_Covid_Death_vs_Vaccine_Rate.png')\n",
    "\n",
    "plt.show()"
   ]
  },
  {
   "cell_type": "code",
   "execution_count": null,
   "id": "772dfd99",
   "metadata": {},
   "outputs": [],
   "source": [
    "# Set index length and bar width\n",
    "quarter_label = ['2020 Q4', '2021 Q1','2021 Q2']\n",
    "index = np.arange(3)\n",
    "bar_width = 0.20\n",
    "\n",
    "# Plot COVID-19 death & Vaccine counts by State\n",
    "fig, ax = plt.subplots()\n",
    "ny = ax.bar(index,FL_quarter_df[\"covid_death_rate\"], bar_width, label='COVID-19 Death Rate', color='red', alpha=0.5)\n",
    "ny2 = ax.bar(index+bar_width,FL_quarter_df[\"vaccine_rate\"], bar_width, label='Vaccine % of Total', color='green', alpha=0.5)\n",
    "\n",
    "# Assign title, labels, and legend\n",
    "ax.set_xlabel('Quarter')\n",
    "ax.set_ylabel('Percent')\n",
    "ax.set_title('Florida COVID-19 Death Rate vs. Vaccine Percent')\n",
    "ax.set_xticks(index + bar_width / 2)\n",
    "ax.set_xticklabels(quarter_label, rotation=45, ha='right')\n",
    "ax.legend()\n",
    "\n",
    "# Display the chart, and export for later use\n",
    "plt.tight_layout()\n",
    "\n",
    "# Uncomment below to save image to desired location\n",
    "#plt.savefig('../Images/FL_Covid_Death_vs_Vaccine_Rate.png')\n",
    "\n",
    "plt.show()"
   ]
  },
  {
   "cell_type": "code",
   "execution_count": null,
   "id": "57526586",
   "metadata": {},
   "outputs": [],
   "source": []
  }
 ],
 "metadata": {
  "kernelspec": {
   "display_name": "Python [conda env:PythonData38] *",
   "language": "python",
   "name": "conda-env-PythonData38-py"
  },
  "language_info": {
   "codemirror_mode": {
    "name": "ipython",
    "version": 3
   },
   "file_extension": ".py",
   "mimetype": "text/x-python",
   "name": "python",
   "nbconvert_exporter": "python",
   "pygments_lexer": "ipython3",
   "version": "3.8.12"
  }
 },
 "nbformat": 4,
 "nbformat_minor": 5
}
