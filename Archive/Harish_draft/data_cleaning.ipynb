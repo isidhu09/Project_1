{
 "cells": [
  {
   "cell_type": "code",
   "execution_count": 1,
   "id": "e7f0154c",
   "metadata": {},
   "outputs": [
    {
     "ename": "ModuleNotFoundError",
     "evalue": "No module named 'config'",
     "output_type": "error",
     "traceback": [
      "\u001b[0;31m---------------------------------------------------------------------------\u001b[0m",
      "\u001b[0;31mModuleNotFoundError\u001b[0m                       Traceback (most recent call last)",
      "\u001b[0;32m/var/folders/s2/3qd2xnrx0xn5nf7p0xdwqcn00000gn/T/ipykernel_29346/3224207704.py\u001b[0m in \u001b[0;36m<module>\u001b[0;34m\u001b[0m\n\u001b[1;32m      8\u001b[0m \u001b[0;32mimport\u001b[0m \u001b[0mtime\u001b[0m\u001b[0;34m\u001b[0m\u001b[0;34m\u001b[0m\u001b[0m\n\u001b[1;32m      9\u001b[0m \u001b[0;32mfrom\u001b[0m \u001b[0mscipy\u001b[0m\u001b[0;34m.\u001b[0m\u001b[0mstats\u001b[0m \u001b[0;32mimport\u001b[0m \u001b[0mlinregress\u001b[0m\u001b[0;34m\u001b[0m\u001b[0;34m\u001b[0m\u001b[0m\n\u001b[0;32m---> 10\u001b[0;31m \u001b[0;32mfrom\u001b[0m \u001b[0mconfig\u001b[0m \u001b[0;32mimport\u001b[0m \u001b[0mappToken\u001b[0m\u001b[0;34m\u001b[0m\u001b[0;34m\u001b[0m\u001b[0m\n\u001b[0m\u001b[1;32m     11\u001b[0m \u001b[0;34m\u001b[0m\u001b[0m\n\u001b[1;32m     12\u001b[0m \u001b[0;32mfrom\u001b[0m \u001b[0murllib\u001b[0m\u001b[0;34m.\u001b[0m\u001b[0mrequest\u001b[0m \u001b[0;32mimport\u001b[0m \u001b[0murlopen\u001b[0m\u001b[0;34m\u001b[0m\u001b[0;34m\u001b[0m\u001b[0m\n",
      "\u001b[0;31mModuleNotFoundError\u001b[0m: No module named 'config'"
     ]
    }
   ],
   "source": [
    "from sodapy import Socrata\n",
    "import json\n",
    "import requests\n",
    "import matplotlib.pyplot as plt\n",
    "import pandas as pd\n",
    "import numpy as np\n",
    "import requests\n",
    "import time\n",
    "from scipy.stats import linregress\n",
    "from config import apiKey\n",
    "\n",
    "from urllib.request import urlopen\n",
    "from scipy import stats\n",
    "import gmaps\n",
    "import plotly.express as px\n",
    "\n",
    "\n",
    "\n",
    "# Use open client to obtain data\n",
    "client = Socrata(\"data.cdc.gov\", apiKey)\n",
    "results = client.get(\"dnhi-s2bf\", limit = 1000000)\n",
    "\n",
    "# Convert to pandas DataFrame\n",
    "death_quarterly = pd.DataFrame.from_records(results)\n",
    "death_quarterly.head()\n"
   ]
  },
  {
   "cell_type": "code",
   "execution_count": null,
   "id": "2da5cabc",
   "metadata": {},
   "outputs": [],
   "source": [
    "death_quarterly_1 = death_quarterly.drop(columns=['footnote'])\n",
    "death_quarterly_2 = death_quarterly_1.dropna(subset =['covid_19_deaths','total_deaths'])\n"
   ]
  },
  {
   "cell_type": "code",
   "execution_count": null,
   "id": "03578b39",
   "metadata": {},
   "outputs": [],
   "source": [
    "death_quarterly_2['total_deaths'] = death_quarterly_2['total_deaths'].astype(int)\n",
    "death_quarterly_2['covid_19_deaths'] = death_quarterly_2['covid_19_deaths'].astype(int)\n",
    "death_gb = death_quarterly_2.groupby(['fips_code'])\n",
    "death_gb_df = death_gb.sum()"
   ]
  },
  {
   "cell_type": "code",
   "execution_count": null,
   "id": "c61803bc",
   "metadata": {},
   "outputs": [],
   "source": [
    "death_gb_df['covid_portion_of_total_deaths'] = death_gb_df['covid_19_deaths']/death_gb_df['total_deaths']\n",
    "death_gb_df = pd.DataFrame(death_gb_df)\n",
    "death_gb_df.reset_index(inplace=True)\n"
   ]
  },
  {
   "cell_type": "code",
   "execution_count": null,
   "id": "2f515d82",
   "metadata": {},
   "outputs": [],
   "source": [
    "death_gb_df"
   ]
  },
  {
   "cell_type": "code",
   "execution_count": null,
   "id": "961122d3",
   "metadata": {},
   "outputs": [],
   "source": [
    "death_gb_df.reset_index(inplace=True)"
   ]
  },
  {
   "cell_type": "code",
   "execution_count": null,
   "id": "333fcc2f",
   "metadata": {},
   "outputs": [],
   "source": [
    "death_gb_df.describe(include='all')"
   ]
  },
  {
   "cell_type": "code",
   "execution_count": null,
   "id": "ffe1f78b",
   "metadata": {},
   "outputs": [],
   "source": [
    "from urllib.request import urlopen\n",
    "import json\n",
    "import requests\n",
    "from scipy import stats\n",
    "import pandas as pd\n",
    "import numpy as np\n",
    "import gmaps\n",
    "from scipy.stats import linregress\n",
    "from matplotlib import pyplot as plt\n",
    "import plotly.express as px\n",
    "\n",
    "\n",
    "url = \"https://raw.githubusercontent.com/plotly/datasets/master/geojson-counties-fips.json\"\n",
    "response = requests.get(url).json()\n",
    "response"
   ]
  },
  {
   "cell_type": "code",
   "execution_count": null,
   "id": "a134b1e0",
   "metadata": {},
   "outputs": [],
   "source": [
    "fig = px.choropleth(death_gb_df, geojson=response, locations='fips_code', color='covid_portion_of_total_deaths',\n",
    "                           color_continuous_scale=\"blues\",\n",
    "                           range_color=(0, .35),\n",
    "                           scope=\"usa\",\n",
    "                           labels={'covid deaths as % of total deaths':'covid_portion_of_total_deaths'}\n",
    "                          )\n",
    "fig.show()"
   ]
  },
  {
   "cell_type": "code",
   "execution_count": null,
   "id": "44e69fec",
   "metadata": {},
   "outputs": [],
   "source": [
    "death_gb_df.describe()\n",
    "death_df = death_gb_df.rename(columns = {'fips_code':'fips'})\n",
    "death_df.head()"
   ]
  },
  {
   "cell_type": "code",
   "execution_count": null,
   "id": "55810bed",
   "metadata": {},
   "outputs": [],
   "source": [
    "# Use open client to obtain data\n",
    "client = Socrata(\"data.cdc.gov\", apiKey)\n",
    "results = client.get(\"8xkx-amqh\", limit = 2000000)\n",
    "                     \n",
    "# Convert to pandas DataFrame\n",
    "results_df = pd.DataFrame.from_records(results)\n",
    "results_df.head()"
   ]
  },
  {
   "cell_type": "code",
   "execution_count": null,
   "id": "c64cb16c",
   "metadata": {},
   "outputs": [],
   "source": [
    "results_df_columns = results_df[['date','fips','recip_state','recip_county',\n",
    "                                     'completeness_pct','administered_dose1_recip',\n",
    "                                     'administered_dose1_pop_pct','series_complete_yes',\n",
    "                                     'series_complete_pop_pct','metro_status','census2019']]"
   ]
  },
  {
   "cell_type": "code",
   "execution_count": null,
   "id": "fa831bf6",
   "metadata": {},
   "outputs": [],
   "source": [
    "clean_df = results_df_columns.dropna()\n",
    "clean_df['date'] = pd.to_datetime(clean_df['date']).dt.date"
   ]
  },
  {
   "cell_type": "code",
   "execution_count": null,
   "id": "6712b781",
   "metadata": {},
   "outputs": [],
   "source": [
    "clean_df['month'] = pd.DatetimeIndex(clean_df['date']).month"
   ]
  },
  {
   "cell_type": "code",
   "execution_count": null,
   "id": "0fcf8e77",
   "metadata": {},
   "outputs": [],
   "source": [
    "clean_df['quarter'] = pd.DatetimeIndex(clean_df['date']).quarter\n",
    "clean_df['year'] = pd.DatetimeIndex(clean_df['date']).year\n",
    "clean_df.head()"
   ]
  },
  {
   "cell_type": "code",
   "execution_count": null,
   "id": "6155544d",
   "metadata": {},
   "outputs": [],
   "source": [
    "grouped_fips = clean_df.groupby(['fips'])\n",
    "max_group = grouped_fips.max()"
   ]
  },
  {
   "cell_type": "code",
   "execution_count": null,
   "id": "eb153a36",
   "metadata": {},
   "outputs": [],
   "source": [
    "max_dose = pd.DataFrame(max_group[['administered_dose1_recip','administered_dose1_pop_pct']]) \n",
    "max_dose.head()"
   ]
  },
  {
   "cell_type": "code",
   "execution_count": null,
   "id": "009c3edc",
   "metadata": {},
   "outputs": [],
   "source": [
    "merged_df = death_df.merge(max_dose,on='fips')\n",
    "merged_df.head()"
   ]
  },
  {
   "cell_type": "code",
   "execution_count": null,
   "id": "3ffa8344",
   "metadata": {},
   "outputs": [],
   "source": [
    "x_axis = merged_df['administered_dose1_pop_pct']\n",
    "y_axis = merged_df['covid_portion_of_total_deaths']\n",
    "\n",
    "plt.scatter(x_axis,y_axis)\n",
    "plt.show()"
   ]
  },
  {
   "cell_type": "code",
   "execution_count": null,
   "id": "d60477aa",
   "metadata": {},
   "outputs": [],
   "source": []
  },
  {
   "cell_type": "code",
   "execution_count": null,
   "id": "a5c4eeff",
   "metadata": {},
   "outputs": [],
   "source": [
    "death_quarterly_2 = death_quarterly.rename(columns = {'fips_code' : 'fips'})\n",
    "death_quarterly_2['year']= death_quarterly_2['year'].astype(int)\n",
    "death_quarterly_2['quarter']=death_quarterly_2['quarter'].astype(int)\n",
    "clean_df['year']=clean_df['year'].astype(int)\n",
    "clean_df['quarter']=clean_df['quarter'].astype(int)"
   ]
  },
  {
   "cell_type": "code",
   "execution_count": null,
   "id": "891479f5",
   "metadata": {},
   "outputs": [],
   "source": [
    "len(clean_df)"
   ]
  },
  {
   "cell_type": "code",
   "execution_count": null,
   "id": "4febf560",
   "metadata": {},
   "outputs": [],
   "source": [
    "total_quarter = pd.merge(death_quarterly_2,clean_df, on = ('fips','year','quarter'),how ='inner')\n",
    "total_quarter.head()\n",
    "total_quarter_2 = total_quarter.loc[(total_quarter['state_of_residence']=='Florida')|(total_quarter['state_of_residence'] =='Texas')|(total_quarter['state_of_residence'] =='California'),:]\n",
    "total_quarter_2.head()\n",
    "len(total_quarter)"
   ]
  },
  {
   "cell_type": "code",
   "execution_count": null,
   "id": "176a67e9",
   "metadata": {},
   "outputs": [],
   "source": [
    "total_quarter_2['quarter_number'] = pd.to_datetime(total_quarter_2['year'].astype(str) + 'Q' + total_quarter_2['quarter'].astype(str))\n",
    "url = \"https://raw.githubusercontent.com/plotly/datasets/master/geojson-counties-fips.json\"\n",
    "\n",
    "response = requests.get(url).json()\n",
    "response"
   ]
  },
  {
   "cell_type": "code",
   "execution_count": null,
   "id": "678ea5c9",
   "metadata": {},
   "outputs": [],
   "source": [
    "total_quarter_2.head(25)"
   ]
  },
  {
   "cell_type": "code",
   "execution_count": null,
   "id": "1e66b33a",
   "metadata": {},
   "outputs": [],
   "source": [
    "# x_axis= total_quarter_2['quarter_number']\n",
    "# y_axis= total_quarter_2['']\n"
   ]
  },
  {
   "cell_type": "code",
   "execution_count": null,
   "id": "a2b36d6b",
   "metadata": {},
   "outputs": [],
   "source": [
    "total_quarter_2.dropna(subset = ['covid_19_deaths','total_deaths'])\n",
    "total_quarter_2['covid_death_rate']= total_quarter_2['covid_19_deaths'].astype(float)/total_quarter_2['total_deaths'].astype(float)\n",
    "total_quarter_2.head(25)\n"
   ]
  },
  {
   "cell_type": "code",
   "execution_count": null,
   "id": "37e72d24",
   "metadata": {},
   "outputs": [],
   "source": [
    "len(total_quarter_2)"
   ]
  },
  {
   "cell_type": "code",
   "execution_count": null,
   "id": "534fdc65",
   "metadata": {},
   "outputs": [],
   "source": [
    "total_quarter_2.drop_duplicates(subset =['quarter_number','fips'],inplace=True)\n",
    "                                                                                                                                       "
   ]
  },
  {
   "cell_type": "code",
   "execution_count": null,
   "id": "e1e660f7",
   "metadata": {},
   "outputs": [],
   "source": [
    "total_quarter_2.head()"
   ]
  },
  {
   "cell_type": "code",
   "execution_count": null,
   "id": "d164b057",
   "metadata": {},
   "outputs": [],
   "source": [
    "len(total_quarter_2)\n",
    "# fig = px.choropleth(death_gb_df, geojson=response, locations='fips_code', color='covid_portion_of_total_deaths',\n",
    "#                            color_continuous_scale=\"bluered\",\n",
    "#                            range_color=(0.1, .25),\n",
    "#                            scope=\"usa\",\n",
    "#                            labels={'COVID as % of Total Deaths':'covid_portion_of_total_deaths'}\n",
    "#                           )\n",
    "# fig.update_layout(margin={\"r\":0,\"t\":0,\"l\":0,\"b\":0})\n",
    "# fig.show()"
   ]
  },
  {
   "cell_type": "code",
   "execution_count": null,
   "id": "b373506e",
   "metadata": {},
   "outputs": [],
   "source": [
    "# x_axis= total_quarter_2['quarter_number']\n",
    "# y_axis= total_quarter_2['']\n"
   ]
  },
  {
   "cell_type": "code",
   "execution_count": null,
   "id": "6012be8a",
   "metadata": {},
   "outputs": [],
   "source": [
    "total_quarter_2.columns"
   ]
  },
  {
   "cell_type": "code",
   "execution_count": null,
   "id": "fa758cd8",
   "metadata": {},
   "outputs": [],
   "source": [
    "total_quarter_2['administered_dose1_recip'] = total_quarter_2['administered_dose1_recip'].astype(float) \n",
    "total_quarter_2['census2019'] = total_quarter_2['census2019'].astype(float) \n",
    "total_quarter_2['covid_19_deaths'] = total_quarter_2['covid_19_deaths'].astype(float) \n",
    "total_quarter_2['total_deaths'] = total_quarter_2['total_deaths'].astype(float) \n",
    "\n"
   ]
  },
  {
   "cell_type": "code",
   "execution_count": null,
   "id": "7d1043c3",
   "metadata": {},
   "outputs": [],
   "source": [
    "california_df = total_quarter_2.loc[total_quarter_2['state_of_residence'] == 'California',:]\n",
    "california_df.head()\n",
    "\n",
    "cali_quarter_group = california_df.groupby('quarter_number')\n",
    "cali_quarter_df = cali_quarter_group.sum()\n"
   ]
  },
  {
   "cell_type": "code",
   "execution_count": null,
   "id": "45872b84",
   "metadata": {},
   "outputs": [],
   "source": [
    "cali_quarter_df.head()"
   ]
  },
  {
   "cell_type": "code",
   "execution_count": null,
   "id": "be092b8c",
   "metadata": {},
   "outputs": [],
   "source": [
    "cali_quarter_df['covid_death_rate']= cali_quarter_df['covid_19_deaths']/cali_quarter_df['total_deaths']\n",
    "cali_quarter_df['vaccine_rate']= cali_quarter_df['administered_dose1_recip']/cali_quarter_df['census2019']\n",
    "\n",
    "cali_quarter_df.head()"
   ]
  },
  {
   "cell_type": "code",
   "execution_count": null,
   "id": "f90de37b",
   "metadata": {},
   "outputs": [],
   "source": [
    "x_axis = cali_quarter_df.index\n",
    "y_axis = cali_quarter_df['vaccine_rate']\n",
    "\n",
    "plt.plot(x_axis, y_axis)\n",
    "plt.title(\"Title\")\n",
    "plt.xlabel(\"X\")\n",
    "plt.ylabel(\"Y\")\n",
    "plt.show()\n"
   ]
  },
  {
   "cell_type": "code",
   "execution_count": null,
   "id": "cb006378",
   "metadata": {},
   "outputs": [],
   "source": [
    "total_quarter['administered_dose1_recip'] = total_quarter['administered_dose1_recip'].astype(float) \n",
    "total_quarter['census2019'] = total_quarter['census2019'].astype(float) \n",
    "total_quarter['covid_19_deaths'] = total_quarter['covid_19_deaths'].astype(float) \n",
    "total_quarter['total_deaths'] = total_quarter['total_deaths'].astype(float) \n",
    "\n"
   ]
  },
  {
   "cell_type": "code",
   "execution_count": null,
   "id": "7e66940a",
   "metadata": {},
   "outputs": [],
   "source": [
    "florida_df = total_quarter_2.loc[total_quarter_2['state_of_residence'] == 'Florida',:]\n",
    "florida_df.head()\n",
    "\n",
    "FL_quarter_group = florida_df.groupby('quarter_number')\n",
    "FL_quarter_df = FL_quarter_group.sum()"
   ]
  },
  {
   "cell_type": "code",
   "execution_count": null,
   "id": "5dc0e181",
   "metadata": {},
   "outputs": [],
   "source": [
    "FL_quarter_df['covid_death_rate']= FL_quarter_df['covid_19_deaths']/FL_quarter_df['total_deaths']\n",
    "FL_quarter_df['vaccine_rate']= FL_quarter_df['administered_dose1_recip']/FL_quarter_df['census2019']\n",
    "\n",
    "FL_quarter_df.head()"
   ]
  },
  {
   "cell_type": "code",
   "execution_count": null,
   "id": "abeab683",
   "metadata": {},
   "outputs": [],
   "source": [
    "x2_axis = FL_quarter_df.index\n",
    "y2_axis = FL_quarter_df['vaccine_rate']\n",
    "\n",
    "plt.plot(x2_axis, y2_axis)\n",
    "plt.title(\"Title\")\n",
    "plt.xlabel(\"X\")\n",
    "plt.ylabel(\"Y\")\n",
    "plt.show()"
   ]
  },
  {
   "cell_type": "code",
   "execution_count": null,
   "id": "67012508",
   "metadata": {},
   "outputs": [],
   "source": [
    "texas_df = total_quarter_2.loc[total_quarter_2['state_of_residence'] == 'Texas',:]\n",
    "texas_df.head()\n",
    "\n",
    "TX_quarter_group = texas_df.groupby('quarter_number')\n",
    "TX_quarter_df = TX_quarter_group.sum()\n",
    "TX_quarter_df.head()"
   ]
  },
  {
   "cell_type": "code",
   "execution_count": null,
   "id": "4232e24f",
   "metadata": {},
   "outputs": [],
   "source": [
    "TX_quarter_df['covid_death_rate']= TX_quarter_df['covid_19_deaths']/TX_quarter_df['total_deaths']\n",
    "TX_quarter_df['vaccine_rate']= TX_quarter_df['administered_dose1_recip']/TX_quarter_df['census2019']\n",
    "\n",
    "TX_quarter_df.head()"
   ]
  },
  {
   "cell_type": "code",
   "execution_count": null,
   "id": "b7ef6d35",
   "metadata": {},
   "outputs": [],
   "source": [
    "x3_axis = TX_quarter_df.index\n",
    "y3_axis = TX_quarter_df['covid_19_deaths']/TX_quarter_df['total_deaths']\n",
    "\n",
    "plt.plot(x3_axis, y3_axis)\n",
    "plt.title(\"Title\")\n",
    "plt.xlabel(\"X\")\n",
    "plt.ylabel(\"Y\")\n",
    "plt.show()"
   ]
  },
  {
   "cell_type": "code",
   "execution_count": null,
   "id": "822bd718",
   "metadata": {},
   "outputs": [],
   "source": [
    "(TX_quarter_df['covid_death_rate']*100).sort_index().plot.line()"
   ]
  },
  {
   "cell_type": "code",
   "execution_count": null,
   "id": "1480d8b6",
   "metadata": {},
   "outputs": [],
   "source": []
  }
 ],
 "metadata": {
  "kernelspec": {
   "display_name": "Python [conda env:PythonData38] *",
   "language": "python",
   "name": "conda-env-PythonData38-py"
  },
  "language_info": {
   "codemirror_mode": {
    "name": "ipython",
    "version": 3
   },
   "file_extension": ".py",
   "mimetype": "text/x-python",
   "name": "python",
   "nbconvert_exporter": "python",
   "pygments_lexer": "ipython3",
   "version": "3.8.12"
  }
 },
 "nbformat": 4,
 "nbformat_minor": 5
}
