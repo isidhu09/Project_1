{
 "cells": [
  {
   "cell_type": "code",
   "execution_count": null,
   "id": "e7f0154c",
   "metadata": {},
   "outputs": [],
   "source": [
    "from sodapy import Socrata\n",
    "import json\n",
    "import requests\n",
    "import matplotlib.pyplot as plt\n",
    "import pandas as pd\n",
    "import numpy as np\n",
    "import requests\n",
    "import time\n",
    "from scipy.stats import linregress\n",
    "from config import apiKey\n",
    "\n",
    "from urllib.request import urlopen\n",
    "from scipy import stats\n",
    "import gmaps\n",
    "import plotly.express as px\n",
    "\n",
    "\n",
    "\n",
    "# Use open client to obtain data\n",
    "client = Socrata(\"data.cdc.gov\", apiKey)\n",
    "results = client.get(\"dnhi-s2bf\", limit = 1000000)\n",
    "\n",
    "# Convert to pandas DataFrame\n",
    "death_quarterly = pd.DataFrame.from_records(results)\n",
    "death_quarterly.head()\n"
   ]
  },
  {
   "cell_type": "code",
   "execution_count": null,
   "id": "2da5cabc",
   "metadata": {},
   "outputs": [],
   "source": [
    "death_quarterly_1 = death_quarterly.drop(columns=['footnote'])\n",
    "death_quarterly_2 = death_quarterly_1.dropna(subset =['covid_19_deaths','total_deaths'])\n"
   ]
  },
  {
   "cell_type": "code",
   "execution_count": null,
   "id": "03578b39",
   "metadata": {},
   "outputs": [],
   "source": [
    "death_quarterly_2['total_deaths'] = death_quarterly_2['total_deaths'].astype(int)\n",
    "death_quarterly_2['covid_19_deaths'] = death_quarterly_2['covid_19_deaths'].astype(int)\n",
    "death_gb = death_quarterly_2.groupby(['fips_code'])\n",
    "death_gb_df = death_gb.sum()"
   ]
  },
  {
   "cell_type": "code",
   "execution_count": null,
   "id": "c61803bc",
   "metadata": {},
   "outputs": [],
   "source": [
    "death_gb_df['covid_portion_of_total_deaths'] = death_gb_df['covid_19_deaths']/death_gb_df['total_deaths']\n",
    "death_gb_df = pd.DataFrame(death_gb_df)\n",
    "death_gb_df.reset_index(inplace=True)\n"
   ]
  },
  {
   "cell_type": "code",
   "execution_count": null,
   "id": "2f515d82",
   "metadata": {},
   "outputs": [],
   "source": [
    "death_gb_df"
   ]
  },
  {
   "cell_type": "code",
   "execution_count": null,
   "id": "961122d3",
   "metadata": {},
   "outputs": [],
   "source": [
    "death_gb_df.reset_index(inplace=True)"
   ]
  },
  {
   "cell_type": "code",
   "execution_count": null,
   "id": "333fcc2f",
   "metadata": {},
   "outputs": [],
   "source": [
    "death_gb_df.describe(include='all')"
   ]
  },
  {
   "cell_type": "code",
   "execution_count": null,
   "id": "ffe1f78b",
   "metadata": {},
   "outputs": [],
   "source": [
    "from urllib.request import urlopen\n",
    "import json\n",
    "import requests\n",
    "from scipy import stats\n",
    "import pandas as pd\n",
    "import numpy as np\n",
    "import gmaps\n",
    "from scipy.stats import linregress\n",
    "from matplotlib import pyplot as plt\n",
    "import plotly.express as px\n",
    "\n",
    "\n",
    "url = \"https://raw.githubusercontent.com/plotly/datasets/master/geojson-counties-fips.json\"\n",
    "response = requests.get(url).json()\n",
    "response"
   ]
  },
  {
   "cell_type": "code",
   "execution_count": null,
   "id": "8c8b3ec2",
   "metadata": {},
   "outputs": [],
   "source": [
    "death_gb_df.head()"
   ]
  },
  {
   "cell_type": "code",
   "execution_count": null,
   "id": "a134b1e0",
   "metadata": {},
   "outputs": [],
   "source": [
    "fig = px.choropleth(death_gb_df, geojson=response, locations='fips_code', color='covid_portion_of_total_deaths',\n",
    "                           color_continuous_scale=\"ylgnbu\",\n",
    "                           range_color=(0, .35),\n",
    "                           scope=\"usa\",\n",
    "                           labels={'covid_portion_of_total_deaths':'Covid Deaths as % of Total Deaths'}\n",
    "                          )\n",
    "fig.show()"
   ]
  },
  {
   "cell_type": "code",
   "execution_count": null,
   "id": "44e69fec",
   "metadata": {},
   "outputs": [],
   "source": [
    "death_gb_df.describe()\n",
    "death_df = death_gb_df.rename(columns = {'fips_code':'fips'})\n",
    "death_df.head()"
   ]
  },
  {
   "cell_type": "code",
   "execution_count": null,
   "id": "55810bed",
   "metadata": {},
   "outputs": [],
   "source": [
    "# Use open client to obtain data\n",
    "client = Socrata(\"data.cdc.gov\", apiKey)\n",
    "results = client.get(\"8xkx-amqh\", limit = 2000000)\n",
    "                     \n",
    "# Convert to pandas DataFrame\n",
    "results_df = pd.DataFrame.from_records(results)\n",
    "results_df.head()"
   ]
  },
  {
   "cell_type": "code",
   "execution_count": null,
   "id": "c64cb16c",
   "metadata": {},
   "outputs": [],
   "source": [
    "results_df_columns = results_df[['date','fips','recip_state','recip_county',\n",
    "                                     'completeness_pct','administered_dose1_recip',\n",
    "                                     'administered_dose1_pop_pct','series_complete_yes',\n",
    "                                     'series_complete_pop_pct','metro_status','census2019']]"
   ]
  },
  {
   "cell_type": "code",
   "execution_count": null,
   "id": "10275685",
   "metadata": {},
   "outputs": [],
   "source": [
    "#restart from here"
   ]
  },
  {
   "cell_type": "code",
   "execution_count": null,
   "id": "fa831bf6",
   "metadata": {},
   "outputs": [],
   "source": [
    "clean_df = results_df_columns.dropna()\n",
    "clean_df['date'] = pd.to_datetime(clean_df['date']).dt.date"
   ]
  },
  {
   "cell_type": "code",
   "execution_count": null,
   "id": "6712b781",
   "metadata": {},
   "outputs": [],
   "source": [
    "clean_df['month'] = pd.DatetimeIndex(clean_df['date']).month"
   ]
  },
  {
   "cell_type": "code",
   "execution_count": null,
   "id": "0fcf8e77",
   "metadata": {},
   "outputs": [],
   "source": [
    "clean_df['quarter'] = pd.DatetimeIndex(clean_df['date']).quarter\n",
    "clean_df['year'] = pd.DatetimeIndex(clean_df['date']).year\n",
    "clean_df.head()"
   ]
  },
  {
   "cell_type": "code",
   "execution_count": null,
   "id": "6155544d",
   "metadata": {},
   "outputs": [],
   "source": [
    "grouped_fips = clean_df.groupby(['fips'])\n",
    "max_group = grouped_fips.max()"
   ]
  },
  {
   "cell_type": "code",
   "execution_count": null,
   "id": "eb153a36",
   "metadata": {},
   "outputs": [],
   "source": [
    "max_dose = pd.DataFrame(max_group[['administered_dose1_recip','administered_dose1_pop_pct']]) \n",
    "max_dose.head()"
   ]
  },
  {
   "cell_type": "code",
   "execution_count": null,
   "id": "009c3edc",
   "metadata": {},
   "outputs": [],
   "source": [
    "merged_df = death_df.merge(max_dose,on='fips')\n",
    "merged_df.head()"
   ]
  },
  {
   "cell_type": "code",
   "execution_count": null,
   "id": "3ffa8344",
   "metadata": {},
   "outputs": [],
   "source": [
    "x_axis = merged_df['administered_dose1_pop_pct']\n",
    "y_axis = merged_df['covid_portion_of_total_deaths']\n",
    "\n",
    "plt.scatter(x_axis,y_axis)\n",
    "plt.show()"
   ]
  },
  {
   "cell_type": "code",
   "execution_count": null,
   "id": "d60477aa",
   "metadata": {},
   "outputs": [],
   "source": []
  },
  {
   "cell_type": "code",
   "execution_count": null,
   "id": "a5c4eeff",
   "metadata": {},
   "outputs": [],
   "source": [
    "death_quarterly_2 = death_quarterly.rename(columns = {'fips_code' : 'fips'})\n",
    "death_quarterly_2['year']= death_quarterly_2['year'].astype(int)\n",
    "death_quarterly_2['quarter']=death_quarterly_2['quarter'].astype(int)\n",
    "clean_df['year']=clean_df['year'].astype(int)\n",
    "clean_df['quarter']=clean_df['quarter'].astype(int)"
   ]
  },
  {
   "cell_type": "code",
   "execution_count": null,
   "id": "891479f5",
   "metadata": {},
   "outputs": [],
   "source": [
    "len(clean_df)"
   ]
  },
  {
   "cell_type": "code",
   "execution_count": null,
   "id": "4febf560",
   "metadata": {},
   "outputs": [],
   "source": [
    "total_quarter = pd.merge(death_quarterly_2,clean_df, on = ('fips','year','quarter'),how ='inner')\n",
    "total_quarter.head()\n",
    "total_quarter_2 = total_quarter.loc[(total_quarter['state_of_residence']=='Florida')|(total_quarter['state_of_residence'] =='Texas')|(total_quarter['state_of_residence'] =='California')|(total_quarter['state_of_residence'] =='New York'),:]\n",
    "total_quarter_2.head()\n",
    "len(total_quarter)"
   ]
  },
  {
   "cell_type": "code",
   "execution_count": null,
   "id": "176a67e9",
   "metadata": {},
   "outputs": [],
   "source": [
    "total_quarter_2['quarter_number'] = pd.to_datetime(total_quarter_2['year'].astype(str) + 'Q' + total_quarter_2['quarter'].astype(str))\n",
    "url = \"https://raw.githubusercontent.com/plotly/datasets/master/geojson-counties-fips.json\"\n",
    "\n",
    "response = requests.get(url).json()\n",
    "response"
   ]
  },
  {
   "cell_type": "code",
   "execution_count": null,
   "id": "678ea5c9",
   "metadata": {},
   "outputs": [],
   "source": [
    "total_quarter_2.head()"
   ]
  },
  {
   "cell_type": "code",
   "execution_count": null,
   "id": "1e66b33a",
   "metadata": {},
   "outputs": [],
   "source": [
    "# x_axis= total_quarter_2['quarter_number']\n",
    "# y_axis= total_quarter_2['']\n"
   ]
  },
  {
   "cell_type": "code",
   "execution_count": null,
   "id": "a2b36d6b",
   "metadata": {},
   "outputs": [],
   "source": [
    "total_quarter_2.dropna(subset = ['covid_19_deaths','total_deaths'])\n",
    "total_quarter_2['covid_death_rate']= total_quarter_2['covid_19_deaths'].astype(float)/total_quarter_2['total_deaths'].astype(float)\n",
    "total_quarter_2.head(25)\n"
   ]
  },
  {
   "cell_type": "code",
   "execution_count": null,
   "id": "37e72d24",
   "metadata": {},
   "outputs": [],
   "source": [
    "len(total_quarter_2)"
   ]
  },
  {
   "cell_type": "code",
   "execution_count": null,
   "id": "534fdc65",
   "metadata": {},
   "outputs": [],
   "source": [
    "total_quarter_2.drop_duplicates(subset =['quarter_number','fips'],inplace=True)\n",
    "                                                                                                                                       "
   ]
  },
  {
   "cell_type": "code",
   "execution_count": null,
   "id": "e1e660f7",
   "metadata": {},
   "outputs": [],
   "source": [
    "total_quarter_2.head()"
   ]
  },
  {
   "cell_type": "code",
   "execution_count": null,
   "id": "d164b057",
   "metadata": {},
   "outputs": [],
   "source": [
    "len(total_quarter_2)\n",
    "# fig = px.choropleth(death_gb_df, geojson=response, locations='fips_code', color='covid_portion_of_total_deaths',\n",
    "#                            color_continuous_scale=\"bluered\",\n",
    "#                            range_color=(0.1, .25),\n",
    "#                            scope=\"usa\",\n",
    "#                            labels={'COVID as % of Total Deaths':'covid_portion_of_total_deaths'}\n",
    "#                           )\n",
    "# fig.update_layout(margin={\"r\":0,\"t\":0,\"l\":0,\"b\":0})\n",
    "# fig.show()"
   ]
  },
  {
   "cell_type": "code",
   "execution_count": null,
   "id": "b373506e",
   "metadata": {},
   "outputs": [],
   "source": [
    "# x_axis= total_quarter_2['quarter_number']\n",
    "# y_axis= total_quarter_2['']\n"
   ]
  },
  {
   "cell_type": "code",
   "execution_count": null,
   "id": "6012be8a",
   "metadata": {},
   "outputs": [],
   "source": [
    "total_quarter_2.columns"
   ]
  },
  {
   "cell_type": "code",
   "execution_count": null,
   "id": "fa758cd8",
   "metadata": {},
   "outputs": [],
   "source": [
    "total_quarter_2['administered_dose1_recip'] = total_quarter_2['administered_dose1_recip'].astype(float) \n",
    "total_quarter_2['census2019'] = total_quarter_2['census2019'].astype(float) \n",
    "total_quarter_2['covid_19_deaths'] = total_quarter_2['covid_19_deaths'].astype(float) \n",
    "total_quarter_2['total_deaths'] = total_quarter_2['total_deaths'].astype(float) \n",
    "\n"
   ]
  },
  {
   "cell_type": "code",
   "execution_count": null,
   "id": "7d1043c3",
   "metadata": {},
   "outputs": [],
   "source": [
    "california_df = total_quarter_2.loc[total_quarter_2['state_of_residence'] == 'California',:]\n",
    "california_df.head()\n",
    "\n",
    "cali_quarter_group = california_df.groupby('quarter_number')\n",
    "cali_quarter_df = cali_quarter_group.sum()\n"
   ]
  },
  {
   "cell_type": "code",
   "execution_count": null,
   "id": "45872b84",
   "metadata": {},
   "outputs": [],
   "source": [
    "cali_quarter_df.head()"
   ]
  },
  {
   "cell_type": "code",
   "execution_count": null,
   "id": "be092b8c",
   "metadata": {},
   "outputs": [],
   "source": [
    "cali_quarter_df['covid_death_rate']= cali_quarter_df['covid_19_deaths']/cali_quarter_df['total_deaths']\n",
    "cali_quarter_df['vaccine_rate']= cali_quarter_df['administered_dose1_recip']/cali_quarter_df['census2019']\n",
    "\n",
    "cali_quarter_df.head()"
   ]
  },
  {
   "cell_type": "code",
   "execution_count": null,
   "id": "f90de37b",
   "metadata": {},
   "outputs": [],
   "source": [
    "x_axis = cali_quarter_df.index\n",
    "y_axis = cali_quarter_df['vaccine_rate']\n",
    "\n",
    "plt.plot(x_axis, y_axis)\n",
    "plt.title(\"Title\")\n",
    "plt.xlabel(\"X\")\n",
    "plt.ylabel(\"Y\")\n",
    "plt.show()\n"
   ]
  },
  {
   "cell_type": "code",
   "execution_count": null,
   "id": "cb006378",
   "metadata": {},
   "outputs": [],
   "source": [
    "total_quarter['administered_dose1_recip'] = total_quarter['administered_dose1_recip'].astype(float) \n",
    "total_quarter['census2019'] = total_quarter['census2019'].astype(float) \n",
    "total_quarter['covid_19_deaths'] = total_quarter['covid_19_deaths'].astype(float) \n",
    "total_quarter['total_deaths'] = total_quarter['total_deaths'].astype(float) \n",
    "\n"
   ]
  },
  {
   "cell_type": "code",
   "execution_count": null,
   "id": "7e66940a",
   "metadata": {},
   "outputs": [],
   "source": [
    "florida_df = total_quarter_2.loc[total_quarter_2['state_of_residence'] == 'Florida',:]\n",
    "florida_df.head()\n",
    "\n",
    "FL_quarter_group = florida_df.groupby('quarter_number')\n",
    "FL_quarter_df = FL_quarter_group.sum()"
   ]
  },
  {
   "cell_type": "code",
   "execution_count": null,
   "id": "5dc0e181",
   "metadata": {},
   "outputs": [],
   "source": [
    "FL_quarter_df['covid_death_rate']= FL_quarter_df['covid_19_deaths']/FL_quarter_df['total_deaths']\n",
    "FL_quarter_df['vaccine_rate']= FL_quarter_df['administered_dose1_recip']/FL_quarter_df['census2019']\n",
    "\n",
    "FL_quarter_df.head()"
   ]
  },
  {
   "cell_type": "code",
   "execution_count": null,
   "id": "abeab683",
   "metadata": {},
   "outputs": [],
   "source": [
    "x2_axis = FL_quarter_df.index\n",
    "y2_axis = FL_quarter_df['vaccine_rate']\n",
    "\n",
    "plt.plot(x2_axis, y2_axis)\n",
    "plt.title(\"Title\")\n",
    "plt.xlabel(\"X\")\n",
    "plt.ylabel(\"Y\")\n",
    "plt.show()"
   ]
  },
  {
   "cell_type": "code",
   "execution_count": null,
   "id": "67012508",
   "metadata": {},
   "outputs": [],
   "source": [
    "texas_df = total_quarter_2.loc[total_quarter_2['state_of_residence'] == 'Texas',:]\n",
    "texas_df.head()\n",
    "\n",
    "TX_quarter_group = texas_df.groupby('quarter_number')\n",
    "TX_quarter_df = TX_quarter_group.sum()\n",
    "TX_quarter_df.head()"
   ]
  },
  {
   "cell_type": "code",
   "execution_count": null,
   "id": "4232e24f",
   "metadata": {},
   "outputs": [],
   "source": [
    "TX_quarter_df['covid_death_rate']= TX_quarter_df['covid_19_deaths']/TX_quarter_df['total_deaths']\n",
    "TX_quarter_df['vaccine_rate']= TX_quarter_df['administered_dose1_recip']/TX_quarter_df['census2019']\n",
    "\n",
    "TX_quarter_df.head()"
   ]
  },
  {
   "cell_type": "code",
   "execution_count": null,
   "id": "b7ef6d35",
   "metadata": {},
   "outputs": [],
   "source": [
    "x3_axis = TX_quarter_df.index\n",
    "y3_axis = TX_quarter_df['covid_19_deaths']/TX_quarter_df['total_deaths']\n",
    "\n",
    "plt.plot(x3_axis, y3_axis)\n",
    "plt.title(\"Title\")\n",
    "plt.xlabel(\"X\")\n",
    "plt.ylabel(\"Y\")\n",
    "plt.show()"
   ]
  },
  {
   "cell_type": "code",
   "execution_count": null,
   "id": "822bd718",
   "metadata": {},
   "outputs": [],
   "source": [
    "(TX_quarter_df['covid_death_rate']*100).sort_index().plot.line()"
   ]
  },
  {
   "cell_type": "code",
   "execution_count": null,
   "id": "1480d8b6",
   "metadata": {},
   "outputs": [],
   "source": []
  },
  {
   "cell_type": "code",
   "execution_count": null,
   "id": "91e67316",
   "metadata": {},
   "outputs": [],
   "source": [
    "state_CAFL_df = total_quarter_2.loc[(total_quarter_2['state_of_residence'] == 'California')|(total_quarter_2['state_of_residence'] == 'Florida')|(total_quarter_2['state_of_residence'] == 'New York')|(total_quarter_2['state_of_residence'] == 'Texas'),:]\n",
    "state_CAFL_df.head()"
   ]
  },
  {
   "cell_type": "code",
   "execution_count": null,
   "id": "405b7fdd",
   "metadata": {},
   "outputs": [],
   "source": [
    "CAFL_quarter_group = state_CAFL_df.groupby(['state_of_residence','quarter_number'])\n",
    "CAFL_quarter_df = CAFL_quarter_group.sum()\n",
    "\n",
    "CAFL_quarter_df['covid_death_rate']= CAFL_quarter_df['covid_19_deaths']/CAFL_quarter_df['total_deaths']\n",
    "CAFL_quarter_df['vaccine_rate']= CAFL_quarter_df['administered_dose1_recip']/CAFL_quarter_df['census2019']\n",
    "\n",
    "CAFL_quarter_df.head()"
   ]
  },
  {
   "cell_type": "code",
   "execution_count": null,
   "id": "5b8bfc51",
   "metadata": {},
   "outputs": [],
   "source": [
    "cali_quarter_df.plot(use_index=True, y=[\"covid_death_rate\", \"vaccine_rate\"], kind=\"bar\")"
   ]
  },
  {
   "cell_type": "code",
   "execution_count": null,
   "id": "a52988ec",
   "metadata": {},
   "outputs": [],
   "source": [
    "FL_quarter_df.plot(use_index=True, y=[\"covid_death_rate\", \"vaccine_rate\"], kind=\"bar\")"
   ]
  },
  {
   "cell_type": "code",
   "execution_count": null,
   "id": "5bb7ba3a",
   "metadata": {},
   "outputs": [],
   "source": [
    "len(total_quarter)"
   ]
  },
  {
   "cell_type": "code",
   "execution_count": null,
   "id": "71537e34",
   "metadata": {},
   "outputs": [],
   "source": [
    "scatter_quarter = total_quarter\n",
    "\n",
    "scatter_quarter['quarter_number'] = pd.to_datetime(total_quarter['year'].astype(str) + 'Q' + total_quarter['quarter'].astype(str))\n",
    "scatter_quarter.head()"
   ]
  },
  {
   "cell_type": "code",
   "execution_count": null,
   "id": "6252a0b8",
   "metadata": {},
   "outputs": [],
   "source": [
    "#lag timeseries regression\n",
    "scatter_plot = scatter_quarter.loc[:,['fips','administered_dose1_recip','census2019','covid_19_deaths','total_deaths','quarter_number']]\n",
    "scatter_plot.head()"
   ]
  },
  {
   "cell_type": "code",
   "execution_count": null,
   "id": "52f942be",
   "metadata": {},
   "outputs": [],
   "source": [
    "len(scatter_plot)"
   ]
  },
  {
   "cell_type": "code",
   "execution_count": null,
   "id": "5e83adf6",
   "metadata": {},
   "outputs": [],
   "source": [
    "scatter_plot.drop_duplicates(subset =['quarter_number','fips'],inplace=True)"
   ]
  },
  {
   "cell_type": "code",
   "execution_count": null,
   "id": "1b2fdcf1",
   "metadata": {},
   "outputs": [],
   "source": [
    "len(scatter_plot)"
   ]
  },
  {
   "cell_type": "code",
   "execution_count": null,
   "id": "ff42b4fb",
   "metadata": {},
   "outputs": [],
   "source": [
    "scatter_plot.dropna()"
   ]
  },
  {
   "cell_type": "code",
   "execution_count": null,
   "id": "bba251f3",
   "metadata": {},
   "outputs": [],
   "source": [
    "clean_scatter = scatter_plot.loc[(scatter_plot['administered_dose1_recip'] != 0) & (scatter_plot['covid_19_deaths'] != 0) & (scatter_plot['census2019'] != 0) &(scatter_plot['total_deaths'] != 0),:]\n",
    "len(clean_scatter)"
   ]
  },
  {
   "cell_type": "code",
   "execution_count": null,
   "id": "2871da6f",
   "metadata": {},
   "outputs": [],
   "source": [
    "xx = scatter_plot['administered_dose1_recip']/scatter_plot['census2019']\n",
    "yy = scatter_plot['covid_19_deaths']/scatter_plot['total_deaths']\n",
    "\n",
    "fig1, ax1 = plt.subplots()\n",
    "plt.scatter(xx,yy)\n",
    "plt.xlabel('Vaccine %')\n",
    "plt.ylabel('Covid Death %')\n",
    "plt.show()"
   ]
  },
  {
   "cell_type": "code",
   "execution_count": null,
   "id": "3bdfaceb",
   "metadata": {},
   "outputs": [],
   "source": [
    "clean_scatter.replace([np.inf, -np.inf], np.nan, inplace=True)\n",
    "clean_scatter.dropna(inplace=True)\n",
    "len(clean_scatter)"
   ]
  },
  {
   "cell_type": "code",
   "execution_count": null,
   "id": "6f8f2f81",
   "metadata": {},
   "outputs": [],
   "source": [
    "x_x = clean_scatter['administered_dose1_recip']/clean_scatter['census2019']\n",
    "y_y = clean_scatter['covid_19_deaths']/clean_scatter['total_deaths']\n",
    "\n",
    "fig1, ax1 = plt.subplots()\n",
    "plt.scatter(x_x,y_y)\n",
    "plt.xlabel('Vaccine %')\n",
    "plt.ylabel('Covid Death %')\n",
    "plt.show()"
   ]
  },
  {
   "cell_type": "code",
   "execution_count": null,
   "id": "5d0f01d0",
   "metadata": {},
   "outputs": [],
   "source": [
    "correlation = stats.pearsonr(x_x,y_y)\n",
    "print(f\"The correlation between vaccine percent \\033[34mand\\033[0m the covid death percent \\033[34mis\\033[0m \\033[31m{round(correlation[0],2)}\\033[0m\")\n",
    "\n",
    "# Creating Plot for scatter and adding line\n",
    "(slope, intercept,rvalue, pvalue, stderr) = linregress(x_x,y_y)\n",
    "regress = x_x* slope + intercept\n",
    "line_eq = f\"y = {round(slope, 2)} x + {round(intercept, 2)}\"\n",
    "\n",
    "plt.scatter(x_x,y_y, s = 3)\n",
    "plt.plot(x_x, regress, color='red')\n",
    "plt.annotate(line_eq,(.4,.5),fontsize=12,color=\"red\")\n",
    "plt.xlabel('Fraction of Pop Vaccinated')\n",
    "plt.ylabel('Covid Death %')\n",
    "\n",
    "plt.savefig(\"../Images/Scatter_Vaccine_vs_Death\")\n",
    "\n",
    "plt.show()\n"
   ]
  },
  {
   "cell_type": "code",
   "execution_count": null,
   "id": "2cbb6aae",
   "metadata": {},
   "outputs": [],
   "source": []
  },
  {
   "cell_type": "code",
   "execution_count": null,
   "id": "de3e9e95",
   "metadata": {
    "scrolled": false
   },
   "outputs": [],
   "source": [
    "x_min = np.min(x_x)\n",
    "x_max = np.max(x_x)\n",
    "  \n",
    "y_min = np.min(y_y)\n",
    "y_max = np.max(y_y)\n",
    "\n",
    "x_bins = np.linspace(x_min, x_max, 70)\n",
    "y_bins = np.linspace(y_min, y_max, 50)\n",
    "\n",
    "#plt.hexbin(x_x, y_y, bins = 150)\n",
    "\n",
    "fig, ax = plt.subplots()\n",
    "plt.hist2d(x_x, y_y, bins = [x_bins,y_bins],cmap = plt.cm.nipy_spectral)\n",
    "#plt.tight_layout() \n",
    "plt.xlabel('Fraction of Pop Vaccinated')\n",
    "plt.ylabel('Covid Death %')\n",
    "plt.savefig(\"../Images/Scatter_Vaccine_vs_Death_Heat\")\n",
    "plt.show()"
   ]
  },
  {
   "cell_type": "code",
   "execution_count": null,
   "id": "28e567ec",
   "metadata": {},
   "outputs": [],
   "source": []
  },
  {
   "cell_type": "code",
   "execution_count": null,
   "id": "3032c2bd",
   "metadata": {},
   "outputs": [],
   "source": [
    "from sklearn.model_selection import train_test_split\n",
    "from sklearn.linear_model import LogisticRegression\n",
    "from sklearn import metrics\n",
    "\n",
    "xr = x_x.values.reshape(1, -1)\n",
    "\n",
    "x_train,x_test,y_train,y_test = train_test_split(xr,y_y,test_size=0.3,random_state=0)\n",
    "\n",
    "log_regression = LogisticRegression()\n",
    "log_regression.fit(x_train,y_train)\n",
    "y_pred = log_regression.predict(x_test)\n",
    "\n",
    "cnf_matrix = metrics.confusion_matrix(y_test, y_pred)\n",
    "cnf_matrix\n",
    "\n",
    "print(\"Accuracy:\",metrics.accuracy_score(y_test, y_pred))\n",
    "\n",
    "y_pred_proba = log_regression.predict_proba(x_test)[::,1]\n",
    "fpr, tpr, _ = metrics.roc_curve(y_test,  y_pred_proba)\n",
    "auc = metrics.roc_auc_score(y_test, y_pred_proba)\n",
    "\n",
    "#create ROC curve\n",
    "plt.plot(fpr,tpr,label=\"AUC=\"+str(auc))\n",
    "plt.legend(loc=4)\n",
    "plt.show()"
   ]
  },
  {
   "cell_type": "code",
   "execution_count": null,
   "id": "232e5acb",
   "metadata": {},
   "outputs": [],
   "source": [
    "fit = np.polyfit(np.log(x_x), y_y, 1)\n",
    "print(fit)"
   ]
  },
  {
   "cell_type": "code",
   "execution_count": null,
   "id": "d6a3f979",
   "metadata": {},
   "outputs": [],
   "source": [
    "y = a + b*ln(x)"
   ]
  },
  {
   "cell_type": "code",
   "execution_count": null,
   "id": "0827ee2c",
   "metadata": {},
   "outputs": [],
   "source": [
    "NY_df = total_quarter_2.loc[total_quarter_2['state_of_residence'] == 'New York',:]\n",
    "NY_df.head()\n",
    "\n",
    "NY_quarter_group = NY_df.groupby('quarter_number')\n",
    "NY_quarter_df = NY_quarter_group.sum()"
   ]
  },
  {
   "cell_type": "code",
   "execution_count": null,
   "id": "94e45667",
   "metadata": {},
   "outputs": [],
   "source": [
    "NY_quarter_df['covid_death_rate']= NY_quarter_df['covid_19_deaths']/NY_quarter_df['total_deaths']\n",
    "NY_quarter_df['vaccine_rate']= NY_quarter_df['administered_dose1_recip']/NY_quarter_df['census2019']\n",
    "\n",
    "NY_quarter_df.head()"
   ]
  },
  {
   "cell_type": "code",
   "execution_count": null,
   "id": "69312314",
   "metadata": {},
   "outputs": [],
   "source": [
    "NY_quarter_df.plot(use_index=True, y=[\"covid_death_rate\", \"vaccine_rate\"], kind=\"bar\")"
   ]
  },
  {
   "cell_type": "code",
   "execution_count": null,
   "id": "618ae9c9",
   "metadata": {},
   "outputs": [],
   "source": []
  },
  {
   "cell_type": "code",
   "execution_count": null,
   "id": "89a56d91",
   "metadata": {},
   "outputs": [],
   "source": [
    "# Set index length and bar width\n",
    "quarter_label = ['2020 Q4', '2021 Q1','2021 Q2']\n",
    "index = np.arange(3)\n",
    "bar_width = 0.20\n",
    "# Plot COVID-19 death counts by State grouped by Age Group\n",
    "fig, ax = plt.subplots()\n",
    "ny = ax.bar(index,NY_quarter_df[\"covid_death_rate\"], bar_width, label='COVID-19 Death Rate', color='red', alpha=0.5)\n",
    "ny2 = ax.bar(index+bar_width,NY_quarter_df[\"vaccine_rate\"], bar_width, label='Vaccine % of Total', color='green', alpha=0.5)\n",
    "# Assign title, labels, and legend\n",
    "ax.set_xlabel('Quarter')\n",
    "ax.set_ylabel('Percent')\n",
    "ax.set_title('New York COVID-19 Death Rate vs.  Vaccine Percent')\n",
    "ax.set_xticks(index + bar_width / 2)\n",
    "ax.set_xticklabels(quarter_label, rotation=45, ha='right')\n",
    "ax.legend()\n",
    "# Display the chart, and export for later use\n",
    "plt.tight_layout()\n",
    "plt.savefig('../Images/NY_Covid_Death_vs_Vaccine_Rate.png')\n",
    "plt.show()"
   ]
  },
  {
   "cell_type": "code",
   "execution_count": null,
   "id": "8b35b6c4",
   "metadata": {},
   "outputs": [],
   "source": [
    "# Set index length and bar width\n",
    "quarter_label = ['2020 Q4', '2021 Q1','2021 Q2']\n",
    "index = np.arange(3)\n",
    "bar_width = 0.20\n",
    "# Plot COVID-19 death counts by State grouped by Age Group\n",
    "fig, ax = plt.subplots()\n",
    "ny = ax.bar(index,cali_quarter_df[\"covid_death_rate\"], bar_width, label='COVID-19 Death Rate', color='red', alpha=0.5)\n",
    "ny2 = ax.bar(index+bar_width,cali_quarter_df[\"vaccine_rate\"], bar_width, label='Vaccine % of Total', color='green', alpha=0.5)\n",
    "# Assign title, labels, and legend\n",
    "ax.set_xlabel('Quarter')\n",
    "ax.set_ylabel('Percent')\n",
    "ax.set_title('California COVID-19 Death Rate vs.  Vaccine Percent')\n",
    "ax.set_xticks(index + bar_width / 2)\n",
    "ax.set_xticklabels(quarter_label, rotation=45, ha='right')\n",
    "ax.legend()\n",
    "# Display the chart, and export for later use\n",
    "plt.tight_layout()\n",
    "plt.savefig('../Images/CA_Covid_Death_vs_Vaccine_Rate.png')\n",
    "plt.show()"
   ]
  },
  {
   "cell_type": "code",
   "execution_count": null,
   "id": "772dfd99",
   "metadata": {},
   "outputs": [],
   "source": [
    "# Set index length and bar width\n",
    "quarter_label = ['2020 Q4', '2021 Q1','2021 Q2']\n",
    "index = np.arange(3)\n",
    "bar_width = 0.20\n",
    "# Plot COVID-19 death counts by State grouped by Age Group\n",
    "fig, ax = plt.subplots()\n",
    "ny = ax.bar(index,FL_quarter_df[\"covid_death_rate\"], bar_width, label='COVID-19 Death Rate', color='red', alpha=0.5)\n",
    "ny2 = ax.bar(index+bar_width,FL_quarter_df[\"vaccine_rate\"], bar_width, label='Vaccine % of Total', color='green', alpha=0.5)\n",
    "# Assign title, labels, and legend\n",
    "ax.set_xlabel('Quarter')\n",
    "ax.set_ylabel('Percent')\n",
    "ax.set_title('Florida COVID-19 Death Rate vs. Vaccine Percent')\n",
    "ax.set_xticks(index + bar_width / 2)\n",
    "ax.set_xticklabels(quarter_label, rotation=45, ha='right')\n",
    "ax.legend()\n",
    "# Display the chart, and export for later use\n",
    "plt.tight_layout()\n",
    "plt.savefig('../Images/FL_Covid_Death_vs_Vaccine_Rate.png')\n",
    "plt.show()"
   ]
  },
  {
   "cell_type": "code",
   "execution_count": null,
   "id": "eda914f2",
   "metadata": {},
   "outputs": [],
   "source": []
  },
  {
   "cell_type": "code",
   "execution_count": null,
   "id": "9fe5c0b3",
   "metadata": {},
   "outputs": [],
   "source": []
  }
 ],
 "metadata": {
  "kernelspec": {
   "display_name": "Python [conda env:PythonData38] *",
   "language": "python",
   "name": "conda-env-PythonData38-py"
  },
  "language_info": {
   "codemirror_mode": {
    "name": "ipython",
    "version": 3
   },
   "file_extension": ".py",
   "mimetype": "text/x-python",
   "name": "python",
   "nbconvert_exporter": "python",
   "pygments_lexer": "ipython3",
   "version": "3.8.12"
  }
 },
 "nbformat": 4,
 "nbformat_minor": 5
}
